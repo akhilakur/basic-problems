{
  "cells": [
    {
      "cell_type": "markdown",
      "metadata": {
        "colab_type": "text",
        "id": "view-in-github"
      },
      "source": [
        "<a href=\"https://colab.research.google.com/github/akhilakur/basic-problems/blob/main/magictelescope.ipynb\" target=\"_parent\"><img src=\"https://colab.research.google.com/assets/colab-badge.svg\" alt=\"Open In Colab\"/></a>"
      ]
    },
    {
      "cell_type": "code",
      "execution_count": 1,
      "metadata": {
        "id": "x2HiJKuk6ne-"
      },
      "outputs": [],
      "source": [
        "import numpy as np\n",
        "import pandas as pd\n",
        "import matplotlib.pyplot as plot"
      ]
    },
    {
      "cell_type": "code",
      "execution_count": 2,
      "metadata": {},
      "outputs": [
        {
          "name": "stdout",
          "output_type": "stream",
          "text": [
            "Defaulting to user installation because normal site-packages is not writeable\n",
            "Collecting ucimlrepo\n",
            "  Downloading ucimlrepo-0.0.3-py3-none-any.whl.metadata (5.2 kB)\n",
            "Downloading ucimlrepo-0.0.3-py3-none-any.whl (7.0 kB)\n",
            "Installing collected packages: ucimlrepo\n",
            "Successfully installed ucimlrepo-0.0.3\n",
            "Note: you may need to restart the kernel to use updated packages.\n"
          ]
        }
      ],
      "source": [
        "pip install ucimlrepo"
      ]
    },
    {
      "cell_type": "code",
      "execution_count": null,
      "metadata": {},
      "outputs": [],
      "source": [
        "from ucimlrepo import fetch_ucirepo \n",
        "  \n",
        "# fetch dataset \n",
        "magic_gamma_telescope = fetch_ucirepo(id=159) \n",
        "  \n",
        "# data (as pandas dataframes) \n",
        "X = magic_gamma_telescope.data.features \n",
        "y = magic_gamma_telescope.data.targets \n",
        "  \n",
        "# metadata \n",
        "print(magic_gamma_telescope.metadata) \n",
        "  \n",
        "# variable information \n",
        "print(magic_gamma_telescope.variables) \n"
      ]
    },
    {
      "cell_type": "code",
      "execution_count": null,
      "metadata": {
        "colab": {
          "base_uri": "https://localhost:8080/",
          "height": 206
        },
        "id": "-sSiAHOWZbg0",
        "outputId": "ce08464c-8c82-45a3-8ba4-95e3b6857502"
      },
      "outputs": [],
      "source": [
        "cols=['fLength','fWidth','fsize','fconc','fconc1','fasym','fM3Long','fM3Trans','fAlpha','fDist','class']\n",
        "df=pd.read_csv(\"magic04.data\",names=cols)\n",
        "df.head()\n"
      ]
    },
    {
      "cell_type": "code",
      "execution_count": 3,
      "metadata": {
        "id": "NOVBnMD8aN6P"
      },
      "outputs": [],
      "source": [
        "df['class']=(df['class']=='g').astype(int)\n"
      ]
    }
  ],
  "metadata": {
    "colab": {
      "authorship_tag": "ABX9TyMDCjVNiv61zhbXSIoIQvtx",
      "include_colab_link": true,
      "mount_file_id": "1PMwoN1E5SNVDvFj1NgjcjQsAzW6BOWji",
      "provenance": []
    },
    "kernelspec": {
      "display_name": "Python 3",
      "name": "python3"
    },
    "language_info": {
      "codemirror_mode": {
        "name": "ipython",
        "version": 3
      },
      "file_extension": ".py",
      "mimetype": "text/x-python",
      "name": "python",
      "nbconvert_exporter": "python",
      "pygments_lexer": "ipython3",
      "version": "3.12.1"
    }
  },
  "nbformat": 4,
  "nbformat_minor": 0
}
